{
 "cells": [
  {
   "cell_type": "markdown",
   "id": "f5261c81",
   "metadata": {},
   "source": [
    "### Importing modules"
   ]
  },
  {
   "cell_type": "code",
   "execution_count": 1,
   "id": "066376c2",
   "metadata": {
    "ExecuteTime": {
     "end_time": "2022-04-30T01:07:40.439525Z",
     "start_time": "2022-04-30T01:07:38.181288Z"
    }
   },
   "outputs": [],
   "source": [
    "import pandas as pd\n",
    "import numpy as np\n",
    "import matplotlib.pyplot as plt\n",
    "from preprocessing import *\n",
    "from util import *\n",
    "import properties"
   ]
  },
  {
   "cell_type": "code",
   "execution_count": 2,
   "id": "ad871fd2",
   "metadata": {
    "ExecuteTime": {
     "end_time": "2022-04-30T01:07:40.455527Z",
     "start_time": "2022-04-30T01:07:40.448549Z"
    }
   },
   "outputs": [],
   "source": [
    "file_path=properties.DATASET_DIR+properties.DATASET_FILENAME"
   ]
  },
  {
   "cell_type": "markdown",
   "id": "c8a40292",
   "metadata": {},
   "source": [
    "### Reading dataset\n",
    "\n",
    "Author: Mahesh Chandra Mareedu"
   ]
  },
  {
   "cell_type": "code",
   "execution_count": 3,
   "id": "c79bc95d",
   "metadata": {
    "ExecuteTime": {
     "end_time": "2022-04-30T01:07:40.787878Z",
     "start_time": "2022-04-30T01:07:40.462559Z"
    }
   },
   "outputs": [],
   "source": [
    "df_data=read_dataset(properties.DATASET_DIR+properties.DATASET_FILENAME)"
   ]
  },
  {
   "cell_type": "markdown",
   "id": "cdf9df23",
   "metadata": {},
   "source": [
    "### Saving File\n",
    "\n",
    "Author: Mahesh Chandra Mareedu"
   ]
  },
  {
   "cell_type": "code",
   "execution_count": 4,
   "id": "5a11b7f7",
   "metadata": {
    "ExecuteTime": {
     "end_time": "2022-04-30T01:07:49.191054Z",
     "start_time": "2022-04-30T01:07:40.792905Z"
    }
   },
   "outputs": [],
   "source": [
    "save_file(df_data,properties.DATASET_DIR)"
   ]
  },
  {
   "cell_type": "markdown",
   "id": "dfb2e493",
   "metadata": {},
   "source": [
    "###  EDA\n",
    "\n",
    "The dataset is a combination of numerical and categorical data.\n",
    "\n",
    "To Do on Numerical Data:\n",
    "- Visualizing distributions of data\n",
    "- Eliminating outliers by checking how much data points are deviated away from mean/median.\n",
    "- Identifying missing data columns,and filling them with Mean/Median\n",
    "- Visualizing Correlation plots among features\n",
    "- Performing Standardization/Normalization\n",
    "\n",
    "To do on Categorical Data:\n",
    "- Filling missing values with Mode\n",
    "- Checking for any random text with in features,and discarding them\n",
    "- Checking the value counts of each categorical feature\n",
    "- Encoding features using One-Hot-Encoder/Label-Encoder/Multi Label Binarizer\n",
    "\n",
    "To do on Target label Data:\n",
    "- Identifying total discre classes\n",
    "- Analyzing and visualizing the distritbution of data by class\n",
    "- If imbalance is identified,upsampling or downsampling is implemented\n",
    "\n",
    "To do Model Building:\n",
    "- Create train test splits (Stratified sampling)\n",
    "- Building model pipeline\n",
    "- Training the data\n",
    "- Validaing the data\n",
    "- Parameter tuning\n",
    "- Saving model\n",
    "- Deployment using flask\n",
    "    "
   ]
  },
  {
   "cell_type": "markdown",
   "id": "8a6afa7b",
   "metadata": {},
   "source": [
    "#### Checking for missing data\n",
    "\n",
    "Author: Mahesh Chandra Mareedu"
   ]
  },
  {
   "cell_type": "code",
   "execution_count": 5,
   "id": "e500e9ae",
   "metadata": {
    "ExecuteTime": {
     "end_time": "2022-04-30T01:07:49.318299Z",
     "start_time": "2022-04-30T01:07:49.191054Z"
    }
   },
   "outputs": [
    {
     "name": "stdout",
     "output_type": "stream",
     "text": [
      "\n",
      "[INFO] Checking missing values in features\n",
      "\n",
      "[INFO] Feature Selected: person_age\n",
      "[INFO] Total nan's: 0\n",
      "[INFO] Total '?' : 0\n",
      "[INFO] No missing data for col: person_age\n",
      "####################################################################################################\n",
      "[INFO] Feature Selected: person_income\n",
      "[INFO] Total nan's: 0\n",
      "[INFO] Total '?' : 0\n",
      "[INFO] No missing data for col: person_income\n",
      "####################################################################################################\n",
      "[INFO] Feature Selected: person_home_ownership\n",
      "[INFO] Total nan's: 0\n",
      "[INFO] Total '?' : 0\n",
      "[INFO] No missing data for col: person_home_ownership\n",
      "####################################################################################################\n",
      "[INFO] Feature Selected: person_emp_length\n",
      "[INFO] Total nan's: 0\n",
      "[INFO] Total '?' : 895\n",
      "[INFO] Total missing data in person_emp_length:895\n",
      "####################################################################################################\n",
      "[INFO] Feature Selected: loan_intent\n",
      "[INFO] Total nan's: 0\n",
      "[INFO] Total '?' : 0\n",
      "[INFO] No missing data for col: loan_intent\n",
      "####################################################################################################\n",
      "[INFO] Feature Selected: loan_grade\n",
      "[INFO] Total nan's: 0\n",
      "[INFO] Total '?' : 0\n",
      "[INFO] No missing data for col: loan_grade\n",
      "####################################################################################################\n",
      "[INFO] Feature Selected: loan_amnt\n",
      "[INFO] Total nan's: 0\n",
      "[INFO] Total '?' : 0\n",
      "[INFO] No missing data for col: loan_amnt\n",
      "####################################################################################################\n",
      "[INFO] Feature Selected: loan_int_rate\n",
      "[INFO] Total nan's: 0\n",
      "[INFO] Total '?' : 3116\n",
      "[INFO] Total missing data in loan_int_rate:3116\n",
      "####################################################################################################\n",
      "[INFO] Feature Selected: loan_status\n",
      "[INFO] Total nan's: 0\n",
      "[INFO] Total '?' : 0\n",
      "[INFO] No missing data for col: loan_status\n",
      "####################################################################################################\n",
      "[INFO] Feature Selected: loan_percent_income\n",
      "[INFO] Total nan's: 0\n",
      "[INFO] Total '?' : 0\n",
      "[INFO] No missing data for col: loan_percent_income\n",
      "####################################################################################################\n",
      "[INFO] Feature Selected: cb_person_default_on_file\n",
      "[INFO] Total nan's: 0\n",
      "[INFO] Total '?' : 0\n",
      "[INFO] No missing data for col: cb_person_default_on_file\n",
      "####################################################################################################\n",
      "[INFO] Feature Selected: cb_person_cred_hist_length\n",
      "[INFO] Total nan's: 0\n",
      "[INFO] Total '?' : 0\n",
      "[INFO] No missing data for col: cb_person_cred_hist_length\n",
      "####################################################################################################\n"
     ]
    }
   ],
   "source": [
    "missing_columns_list=check_missing_columns(df_data)"
   ]
  },
  {
   "cell_type": "code",
   "execution_count": 6,
   "id": "f4fa5b21",
   "metadata": {
    "ExecuteTime": {
     "end_time": "2022-04-30T01:07:49.334254Z",
     "start_time": "2022-04-30T01:07:49.320253Z"
    }
   },
   "outputs": [
    {
     "name": "stdout",
     "output_type": "stream",
     "text": [
      "Missing data in columns: ['person_emp_length', 'loan_int_rate']\n"
     ]
    }
   ],
   "source": [
    "print(\"Missing data in columns:\",missing_columns_list)"
   ]
  },
  {
   "cell_type": "markdown",
   "id": "e4e39801",
   "metadata": {},
   "source": [
    "#### Visualizing distribution of data for missing columns\n",
    "\n",
    "Author: Mahesh Chandra Mareedu"
   ]
  },
  {
   "cell_type": "code",
   "execution_count": 7,
   "id": "8216a221",
   "metadata": {
    "ExecuteTime": {
     "end_time": "2022-04-30T01:07:50.553319Z",
     "start_time": "2022-04-30T01:07:49.338256Z"
    }
   },
   "outputs": [
    {
     "name": "stdout",
     "output_type": "stream",
     "text": [
      "[INFO] Describing data for feature: person_emp_length\n"
     ]
    },
    {
     "data": {
      "text/html": [
       "<div>\n",
       "<style scoped>\n",
       "    .dataframe tbody tr th:only-of-type {\n",
       "        vertical-align: middle;\n",
       "    }\n",
       "\n",
       "    .dataframe tbody tr th {\n",
       "        vertical-align: top;\n",
       "    }\n",
       "\n",
       "    .dataframe thead th {\n",
       "        text-align: right;\n",
       "    }\n",
       "</style>\n",
       "<table border=\"1\" class=\"dataframe\">\n",
       "  <thead>\n",
       "    <tr style=\"text-align: right;\">\n",
       "      <th></th>\n",
       "      <th>count</th>\n",
       "      <th>mean</th>\n",
       "      <th>std</th>\n",
       "      <th>min</th>\n",
       "      <th>25%</th>\n",
       "      <th>50%</th>\n",
       "      <th>75%</th>\n",
       "      <th>max</th>\n",
       "    </tr>\n",
       "  </thead>\n",
       "  <tbody>\n",
       "    <tr>\n",
       "      <th>person_emp_length</th>\n",
       "      <td>31686.0</td>\n",
       "      <td>4.789686</td>\n",
       "      <td>4.14263</td>\n",
       "      <td>0.0</td>\n",
       "      <td>2.0</td>\n",
       "      <td>4.0</td>\n",
       "      <td>7.0</td>\n",
       "      <td>123.0</td>\n",
       "    </tr>\n",
       "  </tbody>\n",
       "</table>\n",
       "</div>"
      ],
      "text/plain": [
       "                     count      mean      std  min  25%  50%  75%    max\n",
       "person_emp_length  31686.0  4.789686  4.14263  0.0  2.0  4.0  7.0  123.0"
      ]
     },
     "metadata": {},
     "output_type": "display_data"
    },
    {
     "data": {
      "image/png": "[encoded data removed]",
      "text/plain": [
       "<Figure size 432x288 with 1 Axes>"
      ]
     },
     "metadata": {
      "needs_background": "light"
     },
     "output_type": "display_data"
    },
    {
     "name": "stdout",
     "output_type": "stream",
     "text": [
      "[INFO] Describing data for feature: loan_int_rate\n"
     ]
    },
    {
     "data": {
      "text/html": [
       "<div>\n",
       "<style scoped>\n",
       "    .dataframe tbody tr th:only-of-type {\n",
       "        vertical-align: middle;\n",
       "    }\n",
       "\n",
       "    .dataframe tbody tr th {\n",
       "        vertical-align: top;\n",
       "    }\n",
       "\n",
       "    .dataframe thead th {\n",
       "        text-align: right;\n",
       "    }\n",
       "</style>\n",
       "<table border=\"1\" class=\"dataframe\">\n",
       "  <thead>\n",
       "    <tr style=\"text-align: right;\">\n",
       "      <th></th>\n",
       "      <th>count</th>\n",
       "      <th>mean</th>\n",
       "      <th>std</th>\n",
       "      <th>min</th>\n",
       "      <th>25%</th>\n",
       "      <th>50%</th>\n",
       "      <th>75%</th>\n",
       "      <th>max</th>\n",
       "    </tr>\n",
       "  </thead>\n",
       "  <tbody>\n",
       "    <tr>\n",
       "      <th>loan_int_rate</th>\n",
       "      <td>29465.0</td>\n",
       "      <td>11.011695</td>\n",
       "      <td>3.240459</td>\n",
       "      <td>5.42</td>\n",
       "      <td>7.9</td>\n",
       "      <td>10.99</td>\n",
       "      <td>13.47</td>\n",
       "      <td>23.22</td>\n",
       "    </tr>\n",
       "  </tbody>\n",
       "</table>\n",
       "</div>"
      ],
      "text/plain": [
       "                 count       mean       std   min  25%    50%    75%    max\n",
       "loan_int_rate  29465.0  11.011695  3.240459  5.42  7.9  10.99  13.47  23.22"
      ]
     },
     "metadata": {},
     "output_type": "display_data"
    },
    {
     "data": {
      "image/png": "[encoded data removed]",
      "text/plain": [
       "<Figure size 432x288 with 1 Axes>"
      ]
     },
     "metadata": {
      "needs_background": "light"
     },
     "output_type": "display_data"
    }
   ],
   "source": [
    "for col in missing_columns_list:\n",
    "    visualize_pdf(df_data,col,True)"
   ]
  },
  {
   "cell_type": "markdown",
   "id": "1806c106",
   "metadata": {},
   "source": [
    "#### Imputing Missing Values\n",
    "\n",
    "Author: Mahesh Chandra Mareedu"
   ]
  },
  {
   "cell_type": "code",
   "execution_count": 8,
   "id": "f0b93f8d",
   "metadata": {
    "ExecuteTime": {
     "end_time": "2022-04-30T01:07:50.633209Z",
     "start_time": "2022-04-30T01:07:50.557174Z"
    }
   },
   "outputs": [
    {
     "name": "stdout",
     "output_type": "stream",
     "text": [
      "\n",
      "[INFO] Imputing missing values\n",
      "\n",
      "##########\n",
      "[INFO] Imputing : person_emp_length\n",
      "[INFO] Imputing with Mean: 4.789686296787225\n",
      "[INFO] Imputing : loan_int_rate\n",
      "[INFO] Imputing with Mean: 11.01169489224439\n"
     ]
    }
   ],
   "source": [
    "df_data,imputed_value_dict=impute_missing_values(df_data,missing_columns_list)"
   ]
  },
  {
   "cell_type": "code",
   "execution_count": 9,
   "id": "279f4102",
   "metadata": {
    "ExecuteTime": {
     "end_time": "2022-04-30T01:07:50.649212Z",
     "start_time": "2022-04-30T01:07:50.636171Z"
    }
   },
   "outputs": [
    {
     "data": {
      "text/plain": [
       "{'person_emp_length': 4.789686296787225, 'loan_int_rate': 11.01169489224439}"
      ]
     },
     "execution_count": 9,
     "metadata": {},
     "output_type": "execute_result"
    }
   ],
   "source": [
    "imputed_value_dict"
   ]
  },
  {
   "cell_type": "code",
   "execution_count": 10,
   "id": "f0831563",
   "metadata": {
    "ExecuteTime": {
     "end_time": "2022-04-30T01:07:50.665186Z",
     "start_time": "2022-04-30T01:07:50.652173Z"
    }
   },
   "outputs": [],
   "source": [
    "df_impute=pd.DataFrame(imputed_value_dict.items(), columns=['Column', 'Mean Value'])"
   ]
  },
  {
   "cell_type": "code",
   "execution_count": 11,
   "id": "d80e035f",
   "metadata": {
    "ExecuteTime": {
     "end_time": "2022-04-30T01:07:50.697172Z",
     "start_time": "2022-04-30T01:07:50.669174Z"
    }
   },
   "outputs": [
    {
     "data": {
      "text/html": [
       "<div>\n",
       "<style scoped>\n",
       "    .dataframe tbody tr th:only-of-type {\n",
       "        vertical-align: middle;\n",
       "    }\n",
       "\n",
       "    .dataframe tbody tr th {\n",
       "        vertical-align: top;\n",
       "    }\n",
       "\n",
       "    .dataframe thead th {\n",
       "        text-align: right;\n",
       "    }\n",
       "</style>\n",
       "<table border=\"1\" class=\"dataframe\">\n",
       "  <thead>\n",
       "    <tr style=\"text-align: right;\">\n",
       "      <th></th>\n",
       "      <th>Column</th>\n",
       "      <th>Mean Value</th>\n",
       "    </tr>\n",
       "  </thead>\n",
       "  <tbody>\n",
       "    <tr>\n",
       "      <th>0</th>\n",
       "      <td>person_emp_length</td>\n",
       "      <td>4.789686</td>\n",
       "    </tr>\n",
       "    <tr>\n",
       "      <th>1</th>\n",
       "      <td>loan_int_rate</td>\n",
       "      <td>11.011695</td>\n",
       "    </tr>\n",
       "  </tbody>\n",
       "</table>\n",
       "</div>"
      ],
      "text/plain": [
       "              Column  Mean Value\n",
       "0  person_emp_length    4.789686\n",
       "1      loan_int_rate   11.011695"
      ]
     },
     "execution_count": 11,
     "metadata": {},
     "output_type": "execute_result"
    }
   ],
   "source": [
    "df_impute"
   ]
  },
  {
   "cell_type": "markdown",
   "id": "269dd620",
   "metadata": {},
   "source": [
    "#### Distribution plot on numerical data\n",
    "\n",
    "Author : Mahesh Chandra Mareedu"
   ]
  },
  {
   "cell_type": "code",
   "execution_count": null,
   "id": "05dcd920",
   "metadata": {},
   "outputs": [],
   "source": []
  },
  {
   "cell_type": "markdown",
   "id": "5d5c4720",
   "metadata": {},
   "source": [
    "#### Correlation plot around numerical features\n",
    "\n",
    "Author : Mahesh Chandra Mareedu"
   ]
  },
  {
   "cell_type": "markdown",
   "id": "bec06fee",
   "metadata": {},
   "source": [
    "####  Author : Shanmuk\n",
    "\n",
    "Bar charts\n",
    "       \n",
    "- On counts of categorical columns\n",
    "- On categorical columns by target label\n",
    "\n"
   ]
  },
  {
   "cell_type": "markdown",
   "id": "04816a78",
   "metadata": {},
   "source": [
    "#### Author - Lokesh\n",
    "    Tree Map\n",
    "    Parallel Categories\n",
    "\n",
    "Author : Lokesh"
   ]
  },
  {
   "cell_type": "markdown",
   "id": "4404b7e1",
   "metadata": {},
   "source": [
    "####  Author - Nikhil\n",
    "    - Box plot\n",
    "    - Violin charts\n"
   ]
  },
  {
   "cell_type": "code",
   "execution_count": null,
   "id": "a80cfbb1",
   "metadata": {},
   "outputs": [],
   "source": []
  },
  {
   "cell_type": "code",
   "execution_count": null,
   "id": "0204d089",
   "metadata": {},
   "outputs": [],
   "source": []
  },
  {
   "cell_type": "code",
   "execution_count": null,
   "id": "da078e38",
   "metadata": {},
   "outputs": [],
   "source": []
  },
  {
   "cell_type": "code",
   "execution_count": null,
   "id": "274cd66b",
   "metadata": {},
   "outputs": [],
   "source": []
  },
  {
   "cell_type": "markdown",
   "id": "4bf296c8",
   "metadata": {},
   "source": [
    "### Plots to visualize\n",
    "- Distribution plot on numerical data\n",
    "- Correlation plot around numerical features\n",
    "- Bar charts\n",
    "        - On counts of categorical columns\n",
    "        - On categorical columns by target label\n",
    "- Tree Map\n",
    "- Parallel Categories\n",
    "- Box plot\n",
    "- Violin charts\n",
    "        \n",
    "    \n",
    "    "
   ]
  },
  {
   "cell_type": "markdown",
   "id": "961f4d98",
   "metadata": {},
   "source": [
    "#### Convert notebook to app.py\n",
    "\n"
   ]
  },
  {
   "cell_type": "code",
   "execution_count": 12,
   "id": "f24eb51f",
   "metadata": {
    "ExecuteTime": {
     "end_time": "2022-04-30T01:07:55.158376Z",
     "start_time": "2022-04-30T01:07:50.700173Z"
    }
   },
   "outputs": [
    {
     "name": "stderr",
     "output_type": "stream",
     "text": [
      "[NbConvertApp] Converting notebook CMPE 255 Credit Risk Prediction-Main.ipynb to python\n",
      "[NbConvertApp] Writing 3335 bytes to CMPE 255 Credit Risk Prediction-Main.py\n"
     ]
    }
   ],
   "source": [
    "!jupyter nbconvert CMPE*.ipynb --to python"
   ]
  },
  {
   "cell_type": "markdown",
   "id": "bb0988ee",
   "metadata": {},
   "source": [
    "### Rough"
   ]
  },
  {
   "cell_type": "code",
   "execution_count": null,
   "id": "48aaaed7",
   "metadata": {},
   "outputs": [],
   "source": []
  }
 ],
 "metadata": {
  "kernelspec": {
   "display_name": "Python 3",
   "language": "python",
   "name": "python3"
  },
  "language_info": {
   "codemirror_mode": {
    "name": "ipython",
    "version": 3
   },
   "file_extension": ".py",
   "mimetype": "text/x-python",
   "name": "python",
   "nbconvert_exporter": "python",
   "pygments_lexer": "ipython3",
   "version": "3.8.8"
  },
  "toc": {
   "base_numbering": 1,
   "nav_menu": {},
   "number_sections": true,
   "sideBar": true,
   "skip_h1_title": false,
   "title_cell": "Table of Contents",
   "title_sidebar": "Contents",
   "toc_cell": false,
   "toc_position": {},
   "toc_section_display": true,
   "toc_window_display": true
  }
 },
 "nbformat": 4,
 "nbformat_minor": 5
}
