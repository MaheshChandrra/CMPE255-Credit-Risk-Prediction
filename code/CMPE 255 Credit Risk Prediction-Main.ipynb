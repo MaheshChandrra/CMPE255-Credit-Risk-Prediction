{
 "cells": [
  {
   "cell_type": "markdown",
   "id": "f5261c81",
   "metadata": {},
   "source": [
    "### Importing modules"
   ]
  },
  {
   "cell_type": "code",
   "execution_count": 1,
   "id": "066376c2",
   "metadata": {
    "ExecuteTime": {
     "end_time": "2022-04-30T02:47:45.257454Z",
     "start_time": "2022-04-30T02:47:44.069341Z"
    }
   },
   "outputs": [
    {
     "ename": "SyntaxError",
     "evalue": "EOL while scanning string literal (preprocessing.py, line 11)",
     "output_type": "error",
     "traceback": [
      "Traceback \u001b[1;36m(most recent call last)\u001b[0m:\n",
      "  File \u001b[0;32m\"C:\\Users\\user1\\anaconda3\\lib\\site-packages\\IPython\\core\\interactiveshell.py\"\u001b[0m, line \u001b[0;32m3437\u001b[0m, in \u001b[0;35mrun_code\u001b[0m\n    exec(code_obj, self.user_global_ns, self.user_ns)\n",
      "\u001b[1;36m  File \u001b[1;32m\"<ipython-input-1-78ee5b546be5>\"\u001b[1;36m, line \u001b[1;32m4\u001b[1;36m, in \u001b[1;35m<module>\u001b[1;36m\u001b[0m\n\u001b[1;33m    from preprocessing import *\u001b[0m\n",
      "\u001b[1;36m  File \u001b[1;32m\"C:\\Users\\user1\\OneDrive - sjsu.edu\\Desktop\\Mahesh\\Semester Subjects\\Sem 2 SJSU\\CMPE 255\\Major Project\\CMPE255-Credit-Risk-Prediction\\code\\preprocessing.py\"\u001b[1;36m, line \u001b[1;32m11\u001b[0m\n\u001b[1;33m    IMG_DIR='../paper\\images\\'\u001b[0m\n\u001b[1;37m                              ^\u001b[0m\n\u001b[1;31mSyntaxError\u001b[0m\u001b[1;31m:\u001b[0m EOL while scanning string literal\n"
     ]
    }
   ],
   "source": [
    "import pandas as pd\n",
    "import numpy as np\n",
    "import matplotlib.pyplot as plt\n",
    "from preprocessing import *\n",
    "from util import *\n",
    "import properties"
   ]
  },
  {
   "cell_type": "code",
   "execution_count": null,
   "id": "ad871fd2",
   "metadata": {
    "ExecuteTime": {
     "end_time": "2022-04-30T02:47:45.261432Z",
     "start_time": "2022-04-30T02:47:44.067Z"
    }
   },
   "outputs": [],
   "source": [
    "file_path=properties.DATASET_DIR+properties.DATASET_FILENAME"
   ]
  },
  {
   "cell_type": "markdown",
   "id": "c8a40292",
   "metadata": {},
   "source": [
    "### Reading dataset\n",
    "\n",
    "Author: Mahesh Chandra Mareedu"
   ]
  },
  {
   "cell_type": "code",
   "execution_count": null,
   "id": "c79bc95d",
   "metadata": {
    "ExecuteTime": {
     "end_time": "2022-04-30T02:47:45.266462Z",
     "start_time": "2022-04-30T02:47:44.070Z"
    }
   },
   "outputs": [],
   "source": [
    "df_data=read_dataset(properties.DATASET_DIR+properties.DATASET_FILENAME)"
   ]
  },
  {
   "cell_type": "markdown",
   "id": "cdf9df23",
   "metadata": {},
   "source": [
    "### Saving File\n",
    "\n",
    "Author: Mahesh Chandra Mareedu"
   ]
  },
  {
   "cell_type": "code",
   "execution_count": null,
   "id": "5a11b7f7",
   "metadata": {
    "ExecuteTime": {
     "end_time": "2022-04-30T02:47:45.270443Z",
     "start_time": "2022-04-30T02:47:44.072Z"
    }
   },
   "outputs": [],
   "source": [
    "save_file(df_data,properties.DATASET_DIR)"
   ]
  },
  {
   "cell_type": "markdown",
   "id": "dfb2e493",
   "metadata": {},
   "source": [
    "###  EDA\n",
    "\n",
    "The dataset is a combination of numerical and categorical data.\n",
    "\n",
    "To Do on Numerical Data:\n",
    "- Visualizing distributions of data\n",
    "- Eliminating outliers by checking how much data points are deviated away from mean/median.\n",
    "- Identifying missing data columns,and filling them with Mean/Median\n",
    "- Visualizing Correlation plots among features\n",
    "- Performing Standardization/Normalization\n",
    "\n",
    "To do on Categorical Data:\n",
    "- Filling missing values with Mode\n",
    "- Checking for any random text with in features,and discarding them\n",
    "- Checking the value counts of each categorical feature\n",
    "- Encoding features using One-Hot-Encoder/Label-Encoder/Multi Label Binarizer\n",
    "\n",
    "To do on Target label Data:\n",
    "- Identifying total discre classes\n",
    "- Analyzing and visualizing the distritbution of data by class\n",
    "- If imbalance is identified,upsampling or downsampling is implemented\n",
    "\n",
    "To do Model Building:\n",
    "- Create train test splits (Stratified sampling)\n",
    "- Building model pipeline\n",
    "- Training the data\n",
    "- Validaing the data\n",
    "- Parameter tuning\n",
    "- Saving model\n",
    "- Deployment using flask\n",
    "    "
   ]
  },
  {
   "cell_type": "markdown",
   "id": "8a6afa7b",
   "metadata": {},
   "source": [
    "#### Checking for missing data\n",
    "\n",
    "Author: Mahesh Chandra Mareedu"
   ]
  },
  {
   "cell_type": "code",
   "execution_count": null,
   "id": "e500e9ae",
   "metadata": {
    "ExecuteTime": {
     "end_time": "2022-04-30T02:47:45.272431Z",
     "start_time": "2022-04-30T02:47:44.076Z"
    }
   },
   "outputs": [],
   "source": [
    "missing_columns_list=check_missing_columns(df_data)"
   ]
  },
  {
   "cell_type": "code",
   "execution_count": null,
   "id": "f4fa5b21",
   "metadata": {
    "ExecuteTime": {
     "end_time": "2022-04-30T02:47:45.274426Z",
     "start_time": "2022-04-30T02:47:44.079Z"
    }
   },
   "outputs": [],
   "source": [
    "print(\"Missing data in columns:\",missing_columns_list)"
   ]
  },
  {
   "cell_type": "markdown",
   "id": "e4e39801",
   "metadata": {},
   "source": [
    "#### Visualizing distribution of data for missing columns\n",
    "\n",
    "Author: Mahesh Chandra Mareedu"
   ]
  },
  {
   "cell_type": "code",
   "execution_count": null,
   "id": "8216a221",
   "metadata": {
    "ExecuteTime": {
     "end_time": "2022-04-30T02:47:45.276426Z",
     "start_time": "2022-04-30T02:47:44.083Z"
    }
   },
   "outputs": [],
   "source": [
    "for col in missing_columns_list:\n",
    "    visualize_pdf(df_data,col,True)"
   ]
  },
  {
   "cell_type": "markdown",
   "id": "1806c106",
   "metadata": {},
   "source": [
    "#### Imputing Missing Values\n",
    "\n",
    "Author: Mahesh Chandra Mareedu"
   ]
  },
  {
   "cell_type": "code",
   "execution_count": null,
   "id": "f0b93f8d",
   "metadata": {
    "ExecuteTime": {
     "end_time": "2022-04-30T02:47:45.280470Z",
     "start_time": "2022-04-30T02:47:44.086Z"
    }
   },
   "outputs": [],
   "source": [
    "df_data,imputed_value_dict=impute_missing_values(df_data,missing_columns_list)"
   ]
  },
  {
   "cell_type": "code",
   "execution_count": null,
   "id": "279f4102",
   "metadata": {
    "ExecuteTime": {
     "end_time": "2022-04-30T02:47:45.284440Z",
     "start_time": "2022-04-30T02:47:44.090Z"
    }
   },
   "outputs": [],
   "source": [
    "imputed_value_dict"
   ]
  },
  {
   "cell_type": "code",
   "execution_count": null,
   "id": "f0831563",
   "metadata": {
    "ExecuteTime": {
     "end_time": "2022-04-30T02:47:45.288456Z",
     "start_time": "2022-04-30T02:47:44.093Z"
    }
   },
   "outputs": [],
   "source": [
    "df_impute=pd.DataFrame(imputed_value_dict.items(), columns=['Column', 'Mean Value'])"
   ]
  },
  {
   "cell_type": "code",
   "execution_count": null,
   "id": "d80e035f",
   "metadata": {
    "ExecuteTime": {
     "end_time": "2022-04-30T02:47:45.291429Z",
     "start_time": "2022-04-30T02:47:44.096Z"
    }
   },
   "outputs": [],
   "source": [
    "df_impute"
   ]
  },
  {
   "cell_type": "markdown",
   "id": "a41da0cc",
   "metadata": {},
   "source": [
    "#### Distribution plot on numerical data\n",
    "\n",
    "Author : Mahesh Chandra Mareedu"
   ]
  },
  {
   "cell_type": "code",
   "execution_count": null,
   "id": "c28dba43",
   "metadata": {
    "ExecuteTime": {
     "end_time": "2022-04-30T02:47:45.293438Z",
     "start_time": "2022-04-30T02:47:44.098Z"
    }
   },
   "outputs": [],
   "source": [
    "import plotly.figure_factory as ff\n",
    "import numpy as np\n",
    "\n",
    "# Add histogram data\n",
    "x1 = np.random.randn(200) - 2\n",
    "x2 = np.random.randn(200)\n",
    "x3 = np.random.randn(200) + 2\n",
    "x4 = np.random.randn(200) + 4\n",
    "\n",
    "# Group data together\n",
    "hist_data = [x1, x2, x3, x4]\n",
    "\n",
    "group_labels = ['Group 1', 'Group 2', 'Group 3', 'Group 4']\n",
    "\n",
    "# Create distplot with custom bin_size\n",
    "fig = ff.create_distplot(hist_data, group_labels, bin_size=.2)\n",
    "fig.show()"
   ]
  },
  {
   "cell_type": "code",
   "execution_count": null,
   "id": "ffed343f",
   "metadata": {
    "ExecuteTime": {
     "end_time": "2022-04-30T02:47:45.295428Z",
     "start_time": "2022-04-30T02:47:44.101Z"
    }
   },
   "outputs": [],
   "source": [
    "df_data.columns"
   ]
  },
  {
   "cell_type": "code",
   "execution_count": null,
   "id": "75226839",
   "metadata": {
    "ExecuteTime": {
     "end_time": "2022-04-30T02:47:45.298491Z",
     "start_time": "2022-04-30T02:47:44.103Z"
    }
   },
   "outputs": [],
   "source": [
    "df_data.columns"
   ]
  },
  {
   "cell_type": "markdown",
   "id": "bff40851",
   "metadata": {},
   "source": [
    "##### Converting datatype object to float for all numerical columns"
   ]
  },
  {
   "cell_type": "code",
   "execution_count": null,
   "id": "f2df278f",
   "metadata": {
    "ExecuteTime": {
     "end_time": "2022-04-30T02:47:45.301430Z",
     "start_time": "2022-04-30T02:47:44.105Z"
    }
   },
   "outputs": [],
   "source": [
    "NUMERICAL_COLUMNS=['person_age', 'person_income','person_emp_length', 'loan_amnt',\n",
    "       'loan_int_rate', 'loan_status', 'loan_percent_income', 'cb_person_cred_hist_length']"
   ]
  },
  {
   "cell_type": "code",
   "execution_count": null,
   "id": "060f4be1",
   "metadata": {
    "ExecuteTime": {
     "end_time": "2022-04-30T02:47:45.308480Z",
     "start_time": "2022-04-30T02:47:44.107Z"
    }
   },
   "outputs": [],
   "source": [
    "for col in NUMERICAL_COLUMNS:\n",
    "    df_data[col]=df_data[col].astype(float)"
   ]
  },
  {
   "cell_type": "markdown",
   "id": "c249851a",
   "metadata": {},
   "source": [
    "#### Correlation plot around numerical features\n",
    "\n",
    "Author : Mahesh Chandra Mareedu"
   ]
  },
  {
   "cell_type": "code",
   "execution_count": null,
   "id": "ad3c9efd",
   "metadata": {
    "ExecuteTime": {
     "end_time": "2022-04-30T02:47:45.311435Z",
     "start_time": "2022-04-30T02:47:44.109Z"
    }
   },
   "outputs": [],
   "source": [
    "get_correlation_heatmap(df_data)"
   ]
  },
  {
   "cell_type": "code",
   "execution_count": null,
   "id": "8ef5dbe9",
   "metadata": {
    "ExecuteTime": {
     "end_time": "2022-04-30T02:47:45.316429Z",
     "start_time": "2022-04-30T02:47:44.111Z"
    }
   },
   "outputs": [],
   "source": [
    "get_correlation_pairplot(df_data)"
   ]
  },
  {
   "cell_type": "markdown",
   "id": "9acafdf0",
   "metadata": {},
   "source": [
    "####  Author : Shanmuk\n",
    "\n",
    "Bar charts\n",
    "       \n",
    "- On counts of categorical columns\n",
    "- On categorical columns by target label\n",
    "\n"
   ]
  },
  {
   "cell_type": "markdown",
   "id": "85b227f4",
   "metadata": {},
   "source": [
    "#### Author - Lokesh\n",
    "    Tree Map\n",
    "    Parallel Categories\n",
    "\n",
    "Author : Lokesh"
   ]
  },
  {
   "cell_type": "markdown",
   "id": "90a8baf6",
   "metadata": {},
   "source": [
    "####  Author - Nikhil\n",
    "    - Box plot\n",
    "    - Violin charts\n"
   ]
  },
  {
   "cell_type": "code",
   "execution_count": null,
   "id": "a80cfbb1",
   "metadata": {},
   "outputs": [],
   "source": []
  },
  {
   "cell_type": "code",
   "execution_count": null,
   "id": "0204d089",
   "metadata": {},
   "outputs": [],
   "source": []
  },
  {
   "cell_type": "code",
   "execution_count": null,
   "id": "da078e38",
   "metadata": {},
   "outputs": [],
   "source": []
  },
  {
   "cell_type": "code",
   "execution_count": null,
   "id": "274cd66b",
   "metadata": {},
   "outputs": [],
   "source": []
  },
  {
   "cell_type": "markdown",
   "id": "4bf296c8",
   "metadata": {},
   "source": [
    "### Plots to visualize\n",
    "- Distribution plot on numerical data\n",
    "- Correlation plot around numerical features\n",
    "- Bar charts\n",
    "        - On counts of categorical columns\n",
    "        - On categorical columns by target label\n",
    "- Tree Map\n",
    "- Parallel Categories\n",
    "- Box plot\n",
    "- Violin charts\n",
    "        \n",
    "    \n",
    "    "
   ]
  },
  {
   "cell_type": "markdown",
   "id": "5b475172",
   "metadata": {},
   "source": [
    "#### Convert notebook to app.py\n",
    "\n"
   ]
  },
  {
   "cell_type": "code",
   "execution_count": null,
   "id": "875cece7",
   "metadata": {
    "ExecuteTime": {
     "end_time": "2022-04-30T02:47:45.319445Z",
     "start_time": "2022-04-30T02:47:44.118Z"
    }
   },
   "outputs": [],
   "source": [
    "!jupyter nbconvert CMPE*.ipynb --to python"
   ]
  },
  {
   "cell_type": "markdown",
   "id": "bb0988ee",
   "metadata": {},
   "source": [
    "### Rough"
   ]
  },
  {
   "cell_type": "code",
   "execution_count": null,
   "id": "48aaaed7",
   "metadata": {},
   "outputs": [],
   "source": []
  }
 ],
 "metadata": {
  "kernelspec": {
   "display_name": "Python 3",
   "language": "python",
   "name": "python3"
  },
  "language_info": {
   "codemirror_mode": {
    "name": "ipython",
    "version": 3
   },
   "file_extension": ".py",
   "mimetype": "text/x-python",
   "name": "python",
   "nbconvert_exporter": "python",
   "pygments_lexer": "ipython3",
   "version": "3.8.8"
  },
  "toc": {
   "base_numbering": 1,
   "nav_menu": {},
   "number_sections": true,
   "sideBar": true,
   "skip_h1_title": false,
   "title_cell": "Table of Contents",
   "title_sidebar": "Contents",
   "toc_cell": false,
   "toc_position": {},
   "toc_section_display": true,
   "toc_window_display": true
  }
 },
 "nbformat": 4,
 "nbformat_minor": 5
}
