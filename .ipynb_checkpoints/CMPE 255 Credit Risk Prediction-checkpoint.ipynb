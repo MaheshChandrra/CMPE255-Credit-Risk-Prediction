{
 "cells": [
  {
   "cell_type": "markdown",
   "id": "f5261c81",
   "metadata": {},
   "source": [
    "### Importing modules"
   ]
  },
  {
   "cell_type": "code",
   "execution_count": 1,
   "id": "066376c2",
   "metadata": {
    "ExecuteTime": {
     "end_time": "2022-04-19T19:25:06.306277Z",
     "start_time": "2022-04-19T19:25:02.203289Z"
    }
   },
   "outputs": [],
   "source": [
    "import pandas as pd\n",
    "import numpy as np\n",
    "import matplotlib.pyplot as plt"
   ]
  },
  {
   "cell_type": "code",
   "execution_count": 2,
   "id": "bbc4f567",
   "metadata": {
    "ExecuteTime": {
     "end_time": "2022-04-19T19:26:02.819376Z",
     "start_time": "2022-04-19T19:26:02.803341Z"
    }
   },
   "outputs": [],
   "source": [
    "import os"
   ]
  },
  {
   "cell_type": "markdown",
   "id": "c8a40292",
   "metadata": {},
   "source": [
    "### Reading dataset"
   ]
  },
  {
   "cell_type": "code",
   "execution_count": 6,
   "id": "0041e6c1",
   "metadata": {
    "ExecuteTime": {
     "end_time": "2022-04-19T19:26:19.752612Z",
     "start_time": "2022-04-19T19:26:19.736640Z"
    }
   },
   "outputs": [
    {
     "data": {
      "text/plain": [
       "['dataset_']"
      ]
     },
     "execution_count": 6,
     "metadata": {},
     "output_type": "execute_result"
    }
   ],
   "source": [
    "os.listdir('dataset')"
   ]
  },
  {
   "cell_type": "code",
   "execution_count": 7,
   "id": "57856c4e",
   "metadata": {
    "ExecuteTime": {
     "end_time": "2022-04-19T19:27:49.290973Z",
     "start_time": "2022-04-19T19:27:49.275920Z"
    }
   },
   "outputs": [],
   "source": [
    "DATASET_DIR='dataset/'\n",
    "DATASET_FILENAME='dataset_'"
   ]
  },
  {
   "cell_type": "code",
   "execution_count": 20,
   "id": "297c2250",
   "metadata": {
    "ExecuteTime": {
     "end_time": "2022-04-19T19:42:12.722029Z",
     "start_time": "2022-04-19T19:42:12.646860Z"
    }
   },
   "outputs": [],
   "source": [
    "data_flag=False\n",
    "data=[]\n",
    "features=[]\n",
    "with open(DATASET_DIR+DATASET_FILENAME) as f:\n",
    "    all_lines=f.readlines()\n",
    "    for line in all_lines:\n",
    "        if '@ATTRIBUTE' in line:\n",
    "            _,feature_name,_=line.split(' ')\n",
    "            features.append(feature_name)\n",
    "        if data_flag:\n",
    "            line=line.replace(\"\\n\",'')\n",
    "            data.append(line.split(','))\n",
    "        if '@DATA' in line:\n",
    "            data_flag=True          "
   ]
  },
  {
   "cell_type": "code",
   "execution_count": 22,
   "id": "c3d6bc0c",
   "metadata": {
    "ExecuteTime": {
     "end_time": "2022-04-19T19:42:19.815605Z",
     "start_time": "2022-04-19T19:42:19.744006Z"
    }
   },
   "outputs": [],
   "source": [
    "df_data=pd.DataFrame(data=data,columns=features)"
   ]
  },
  {
   "cell_type": "code",
   "execution_count": 24,
   "id": "085f5080",
   "metadata": {
    "ExecuteTime": {
     "end_time": "2022-04-19T19:43:32.230342Z",
     "start_time": "2022-04-19T19:43:32.209376Z"
    }
   },
   "outputs": [
    {
     "data": {
      "text/html": [
       "<div>\n",
       "<style scoped>\n",
       "    .dataframe tbody tr th:only-of-type {\n",
       "        vertical-align: middle;\n",
       "    }\n",
       "\n",
       "    .dataframe tbody tr th {\n",
       "        vertical-align: top;\n",
       "    }\n",
       "\n",
       "    .dataframe thead th {\n",
       "        text-align: right;\n",
       "    }\n",
       "</style>\n",
       "<table border=\"1\" class=\"dataframe\">\n",
       "  <thead>\n",
       "    <tr style=\"text-align: right;\">\n",
       "      <th></th>\n",
       "      <th>person_age</th>\n",
       "      <th>person_income</th>\n",
       "      <th>person_home_ownership</th>\n",
       "      <th>person_emp_length</th>\n",
       "      <th>loan_intent</th>\n",
       "      <th>loan_grade</th>\n",
       "      <th>loan_amnt</th>\n",
       "      <th>loan_int_rate</th>\n",
       "      <th>loan_status</th>\n",
       "      <th>loan_percent_income</th>\n",
       "      <th>cb_person_default_on_file</th>\n",
       "      <th>cb_person_cred_hist_length</th>\n",
       "    </tr>\n",
       "  </thead>\n",
       "  <tbody>\n",
       "    <tr>\n",
       "      <th>0</th>\n",
       "      <td>22</td>\n",
       "      <td>59000</td>\n",
       "      <td>RENT</td>\n",
       "      <td>123.0</td>\n",
       "      <td>PERSONAL</td>\n",
       "      <td>D</td>\n",
       "      <td>35000</td>\n",
       "      <td>16.02</td>\n",
       "      <td>1</td>\n",
       "      <td>0.59</td>\n",
       "      <td>Y</td>\n",
       "      <td>3</td>\n",
       "    </tr>\n",
       "    <tr>\n",
       "      <th>1</th>\n",
       "      <td>21</td>\n",
       "      <td>9600</td>\n",
       "      <td>OWN</td>\n",
       "      <td>5.0</td>\n",
       "      <td>EDUCATION</td>\n",
       "      <td>B</td>\n",
       "      <td>1000</td>\n",
       "      <td>11.14</td>\n",
       "      <td>0</td>\n",
       "      <td>0.1</td>\n",
       "      <td>N</td>\n",
       "      <td>2</td>\n",
       "    </tr>\n",
       "    <tr>\n",
       "      <th>2</th>\n",
       "      <td>25</td>\n",
       "      <td>9600</td>\n",
       "      <td>MORTGAGE</td>\n",
       "      <td>1.0</td>\n",
       "      <td>MEDICAL</td>\n",
       "      <td>C</td>\n",
       "      <td>5500</td>\n",
       "      <td>12.87</td>\n",
       "      <td>1</td>\n",
       "      <td>0.57</td>\n",
       "      <td>N</td>\n",
       "      <td>3</td>\n",
       "    </tr>\n",
       "    <tr>\n",
       "      <th>3</th>\n",
       "      <td>23</td>\n",
       "      <td>65500</td>\n",
       "      <td>RENT</td>\n",
       "      <td>4.0</td>\n",
       "      <td>MEDICAL</td>\n",
       "      <td>C</td>\n",
       "      <td>35000</td>\n",
       "      <td>15.23</td>\n",
       "      <td>1</td>\n",
       "      <td>0.53</td>\n",
       "      <td>N</td>\n",
       "      <td>2</td>\n",
       "    </tr>\n",
       "    <tr>\n",
       "      <th>4</th>\n",
       "      <td>24</td>\n",
       "      <td>54400</td>\n",
       "      <td>RENT</td>\n",
       "      <td>8.0</td>\n",
       "      <td>MEDICAL</td>\n",
       "      <td>C</td>\n",
       "      <td>35000</td>\n",
       "      <td>14.27</td>\n",
       "      <td>1</td>\n",
       "      <td>0.55</td>\n",
       "      <td>Y</td>\n",
       "      <td>4</td>\n",
       "    </tr>\n",
       "  </tbody>\n",
       "</table>\n",
       "</div>"
      ],
      "text/plain": [
       "  person_age person_income person_home_ownership person_emp_length  \\\n",
       "0         22         59000                  RENT             123.0   \n",
       "1         21          9600                   OWN               5.0   \n",
       "2         25          9600              MORTGAGE               1.0   \n",
       "3         23         65500                  RENT               4.0   \n",
       "4         24         54400                  RENT               8.0   \n",
       "\n",
       "  loan_intent loan_grade loan_amnt loan_int_rate loan_status  \\\n",
       "0    PERSONAL          D     35000         16.02           1   \n",
       "1   EDUCATION          B      1000         11.14           0   \n",
       "2     MEDICAL          C      5500         12.87           1   \n",
       "3     MEDICAL          C     35000         15.23           1   \n",
       "4     MEDICAL          C     35000         14.27           1   \n",
       "\n",
       "  loan_percent_income cb_person_default_on_file cb_person_cred_hist_length  \n",
       "0                0.59                         Y                          3  \n",
       "1                 0.1                         N                          2  \n",
       "2                0.57                         N                          3  \n",
       "3                0.53                         N                          2  \n",
       "4                0.55                         Y                          4  "
      ]
     },
     "execution_count": 24,
     "metadata": {},
     "output_type": "execute_result"
    }
   ],
   "source": [
    "df_data.head()"
   ]
  },
  {
   "cell_type": "code",
   "execution_count": 25,
   "id": "1fa7bbda",
   "metadata": {
    "ExecuteTime": {
     "end_time": "2022-04-19T19:43:39.849324Z",
     "start_time": "2022-04-19T19:43:39.789196Z"
    }
   },
   "outputs": [
    {
     "name": "stdout",
     "output_type": "stream",
     "text": [
      "<class 'pandas.core.frame.DataFrame'>\n",
      "RangeIndex: 32581 entries, 0 to 32580\n",
      "Data columns (total 12 columns):\n",
      " #   Column                      Non-Null Count  Dtype \n",
      "---  ------                      --------------  ----- \n",
      " 0   person_age                  32581 non-null  object\n",
      " 1   person_income               32581 non-null  object\n",
      " 2   person_home_ownership       32581 non-null  object\n",
      " 3   person_emp_length           32581 non-null  object\n",
      " 4   loan_intent                 32581 non-null  object\n",
      " 5   loan_grade                  32581 non-null  object\n",
      " 6   loan_amnt                   32581 non-null  object\n",
      " 7   loan_int_rate               32581 non-null  object\n",
      " 8   loan_status                 32581 non-null  object\n",
      " 9   loan_percent_income         32581 non-null  object\n",
      " 10  cb_person_default_on_file   32581 non-null  object\n",
      " 11  cb_person_cred_hist_length  32581 non-null  object\n",
      "dtypes: object(12)\n",
      "memory usage: 3.0+ MB\n"
     ]
    }
   ],
   "source": [
    "df_data.info()"
   ]
  },
  {
   "cell_type": "code",
   "execution_count": 26,
   "id": "6a39a56c",
   "metadata": {
    "ExecuteTime": {
     "end_time": "2022-04-19T19:43:48.362604Z",
     "start_time": "2022-04-19T19:43:48.138845Z"
    }
   },
   "outputs": [
    {
     "data": {
      "text/html": [
       "<div>\n",
       "<style scoped>\n",
       "    .dataframe tbody tr th:only-of-type {\n",
       "        vertical-align: middle;\n",
       "    }\n",
       "\n",
       "    .dataframe tbody tr th {\n",
       "        vertical-align: top;\n",
       "    }\n",
       "\n",
       "    .dataframe thead th {\n",
       "        text-align: right;\n",
       "    }\n",
       "</style>\n",
       "<table border=\"1\" class=\"dataframe\">\n",
       "  <thead>\n",
       "    <tr style=\"text-align: right;\">\n",
       "      <th></th>\n",
       "      <th>person_age</th>\n",
       "      <th>person_income</th>\n",
       "      <th>person_home_ownership</th>\n",
       "      <th>person_emp_length</th>\n",
       "      <th>loan_intent</th>\n",
       "      <th>loan_grade</th>\n",
       "      <th>loan_amnt</th>\n",
       "      <th>loan_int_rate</th>\n",
       "      <th>loan_status</th>\n",
       "      <th>loan_percent_income</th>\n",
       "      <th>cb_person_default_on_file</th>\n",
       "      <th>cb_person_cred_hist_length</th>\n",
       "    </tr>\n",
       "  </thead>\n",
       "  <tbody>\n",
       "    <tr>\n",
       "      <th>count</th>\n",
       "      <td>32581</td>\n",
       "      <td>32581</td>\n",
       "      <td>32581</td>\n",
       "      <td>32581</td>\n",
       "      <td>32581</td>\n",
       "      <td>32581</td>\n",
       "      <td>32581</td>\n",
       "      <td>32581</td>\n",
       "      <td>32581</td>\n",
       "      <td>32581</td>\n",
       "      <td>32581</td>\n",
       "      <td>32581</td>\n",
       "    </tr>\n",
       "    <tr>\n",
       "      <th>unique</th>\n",
       "      <td>58</td>\n",
       "      <td>4295</td>\n",
       "      <td>4</td>\n",
       "      <td>37</td>\n",
       "      <td>6</td>\n",
       "      <td>7</td>\n",
       "      <td>753</td>\n",
       "      <td>349</td>\n",
       "      <td>2</td>\n",
       "      <td>77</td>\n",
       "      <td>2</td>\n",
       "      <td>29</td>\n",
       "    </tr>\n",
       "    <tr>\n",
       "      <th>top</th>\n",
       "      <td>23</td>\n",
       "      <td>60000</td>\n",
       "      <td>RENT</td>\n",
       "      <td>0.0</td>\n",
       "      <td>EDUCATION</td>\n",
       "      <td>A</td>\n",
       "      <td>10000</td>\n",
       "      <td>?</td>\n",
       "      <td>0</td>\n",
       "      <td>0.1</td>\n",
       "      <td>N</td>\n",
       "      <td>2</td>\n",
       "    </tr>\n",
       "    <tr>\n",
       "      <th>freq</th>\n",
       "      <td>3889</td>\n",
       "      <td>1046</td>\n",
       "      <td>16446</td>\n",
       "      <td>4105</td>\n",
       "      <td>6453</td>\n",
       "      <td>10777</td>\n",
       "      <td>2664</td>\n",
       "      <td>3116</td>\n",
       "      <td>25473</td>\n",
       "      <td>1533</td>\n",
       "      <td>26836</td>\n",
       "      <td>5965</td>\n",
       "    </tr>\n",
       "  </tbody>\n",
       "</table>\n",
       "</div>"
      ],
      "text/plain": [
       "       person_age person_income person_home_ownership person_emp_length  \\\n",
       "count       32581         32581                 32581             32581   \n",
       "unique         58          4295                     4                37   \n",
       "top            23         60000                  RENT               0.0   \n",
       "freq         3889          1046                 16446              4105   \n",
       "\n",
       "       loan_intent loan_grade loan_amnt loan_int_rate loan_status  \\\n",
       "count        32581      32581     32581         32581       32581   \n",
       "unique           6          7       753           349           2   \n",
       "top      EDUCATION          A     10000             ?           0   \n",
       "freq          6453      10777      2664          3116       25473   \n",
       "\n",
       "       loan_percent_income cb_person_default_on_file  \\\n",
       "count                32581                     32581   \n",
       "unique                  77                         2   \n",
       "top                    0.1                         N   \n",
       "freq                  1533                     26836   \n",
       "\n",
       "       cb_person_cred_hist_length  \n",
       "count                       32581  \n",
       "unique                         29  \n",
       "top                             2  \n",
       "freq                         5965  "
      ]
     },
     "execution_count": 26,
     "metadata": {},
     "output_type": "execute_result"
    }
   ],
   "source": [
    "df_data.describe()"
   ]
  },
  {
   "cell_type": "markdown",
   "id": "91c4aa17",
   "metadata": {},
   "source": [
    "#### Writing dataset back to excel"
   ]
  },
  {
   "cell_type": "code",
   "execution_count": 27,
   "id": "63acf83f",
   "metadata": {
    "ExecuteTime": {
     "end_time": "2022-04-19T19:45:29.702700Z",
     "start_time": "2022-04-19T19:45:22.411385Z"
    }
   },
   "outputs": [],
   "source": [
    "df_data.to_excel(DATASET_DIR+'Credit_Risk_Prediction_Dataset.xlsx')"
   ]
  }
 ],
 "metadata": {
  "kernelspec": {
   "display_name": "Python 3",
   "language": "python",
   "name": "python3"
  },
  "language_info": {
   "codemirror_mode": {
    "name": "ipython",
    "version": 3
   },
   "file_extension": ".py",
   "mimetype": "text/x-python",
   "name": "python",
   "nbconvert_exporter": "python",
   "pygments_lexer": "ipython3",
   "version": "3.8.8"
  },
  "toc": {
   "base_numbering": 1,
   "nav_menu": {},
   "number_sections": true,
   "sideBar": true,
   "skip_h1_title": false,
   "title_cell": "Table of Contents",
   "title_sidebar": "Contents",
   "toc_cell": false,
   "toc_position": {},
   "toc_section_display": true,
   "toc_window_display": true
  }
 },
 "nbformat": 4,
 "nbformat_minor": 5
}
